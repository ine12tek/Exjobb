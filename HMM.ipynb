{
 "cells": [
  {
   "cell_type": "code",
   "execution_count": 14,
   "metadata": {
    "collapsed": false
   },
   "outputs": [],
   "source": [
    "import numpy as np\n",
    "import pandas as pd\n",
    "import json as js\n",
    "from yahoo_finance import Share\n",
    "import datetime as dt\n",
    "\n",
    "class HMM(object):\n",
    "    # Implements discrete 1-st order Hidden Markov Model \n",
    "\n",
    "    def __init__(self, tolerance = 1e-6, max_iterations=10000, scaling=True):\n",
    "        self.tolerance=tolerance\n",
    "        self.max_iter = max_iterations\n",
    "        self.scaling = scaling\n",
    "\n",
    "    def HMMfwd(self, a, b, o, pi):\n",
    "        # Implements HMM Forward algorithm\n",
    "    \n",
    "        N = np.shape(b)[0]\n",
    "        T = np.shape(o)[0]\n",
    "    \n",
    "        alpha = np.zeros((N,T))\n",
    "        # initialise first column with observation values\n",
    "        alpha[:,0] = pi*b[:,o[0]]\n",
    "        c = np.ones((T))\n",
    "        \n",
    "        if self.scaling:\n",
    "            \n",
    "            c[0]=1.0/np.sum(alpha[:,0])\n",
    "            alpha[:,0]=alpha[:,0]*c[0]\n",
    "            \n",
    "            for t in xrange(1,T):\n",
    "                c[t]=0\n",
    "                for i in xrange(N):\n",
    "                    alpha[i,t] = b[i,o[t]] * np.sum(alpha[:,t-1] * a[:,i])\n",
    "                c[t]=1.0/np.sum(alpha[:,t])\n",
    "                alpha[:,t]=alpha[:,t]*c[t]\n",
    "\n",
    "        else:\n",
    "            for t in xrange(1,T):\n",
    "                for i in xrange(N):\n",
    "                    alpha[i,t] = b[i,o[t]] * np.sum(alpha[:,t-1] * a[:,i])\n",
    "        \n",
    "        return alpha, c\n",
    "\n",
    "    def HMMbwd(self, a, b, o, c):\n",
    "        # Implements HMM Backward algorithm\n",
    "    \n",
    "        N = np.shape(b)[0]\n",
    "        T = np.shape(o)[0]\n",
    "    \n",
    "        beta = np.zeros((N,T))\n",
    "        # initialise last row with scaling c\n",
    "        beta[:,T-1] = c[T-1]\n",
    "    \n",
    "        for t in xrange(T-2,-1,-1):\n",
    "            for i in xrange(N):\n",
    "                beta[i,t] = np.sum(b[:,o[t+1]] * beta[:,t+1] * a[i,:])\n",
    "            # scale beta by the same value as a\n",
    "            beta[:,t]=beta[:,t]*c[t]\n",
    "\n",
    "        return beta\n",
    "\n",
    "    def HMMViterbi(self, a, b, o, pi):\n",
    "        # Implements HMM Viterbi algorithm        \n",
    "        \n",
    "        N = np.shape(b)[0]\n",
    "        T = np.shape(o)[0]\n",
    "    \n",
    "        path = np.zeros(T)\n",
    "        delta = np.zeros((N,T))\n",
    "        phi = np.zeros((N,T))\n",
    "    \n",
    "        delta[:,0] = pi * b[:,o[0]]\n",
    "        phi[:,0] = 0\n",
    "    \n",
    "        for t in xrange(1,T):\n",
    "            for i in xrange(N):\n",
    "                delta[i,t] = np.max(delta[:,t-1]*a[:,i])*b[i,o[t]]\n",
    "                phi[i,t] = np.argmax(delta[:,t-1]*a[:,i])\n",
    "    \n",
    "        path[T-1] = np.argmax(delta[:,T-1])\n",
    "        for t in xrange(T-2,-1,-1):\n",
    "            path[t] = phi[int(path[t+1]),t+1]\n",
    "    \n",
    "        return path,delta, phi\n",
    "\n",
    " \n",
    "    def HMMBaumWelch(self, o, N, dirichlet=False, verbose=False, rand_seed=1):\n",
    "        # Implements HMM Baum-Welch algorithm        \n",
    "        \n",
    "        T = np.shape(o)[0]\n",
    "\n",
    "        M = int(max(o))+1 # now all hist time-series will contain all observation vals, but we have to provide for all\n",
    "\n",
    "        digamma = np.zeros((N,N,T))\n",
    "\n",
    "    \n",
    "        # Initialise A, B and pi randomly, but so that they sum to one\n",
    "        np.random.seed(rand_seed)\n",
    "        \n",
    "        # Initialisation can be done either using dirichlet distribution (all randoms sum to one) \n",
    "        # or using approximates uniforms from matrix sizes\n",
    "        if dirichlet:\n",
    "            pi = np.ndarray.flatten(np.random.dirichlet(np.ones(N),size=1))\n",
    "            \n",
    "            a = np.random.dirichlet(np.ones(N),size=N)\n",
    "            \n",
    "            b=np.random.dirichlet(np.ones(M),size=N)\n",
    "        else:\n",
    "            \n",
    "            pi_randomizer = np.ndarray.flatten(np.random.dirichlet(np.ones(N),size=1))/100\n",
    "            pi=1.0/N*np.ones(N)-pi_randomizer\n",
    "\n",
    "            a_randomizer = np.random.dirichlet(np.ones(N),size=N)/100\n",
    "            a=1.0/N*np.ones([N,N])-a_randomizer\n",
    "\n",
    "            b_randomizer=np.random.dirichlet(np.ones(M),size=N)/100\n",
    "            b = 1.0/M*np.ones([N,M])-b_randomizer\n",
    "\n",
    "        \n",
    "        error = self.tolerance+10\n",
    "        itter = 0\n",
    "        while ((error > self.tolerance) & (itter < self.max_iter)):   \n",
    "\n",
    "            prev_a = a.copy()\n",
    "            prev_b = b.copy()\n",
    "    \n",
    "            # Estimate model parameters\n",
    "            alpha, c = self.HMMfwd(a, b, o, pi)\n",
    "            beta = self.HMMbwd(a, b, o, c) \n",
    "    \n",
    "            for t in xrange(T-1):\n",
    "                for i in xrange(N):\n",
    "                    for j in xrange(N):\n",
    "                        digamma[i,j,t] = alpha[i,t]*a[i,j]*b[j,o[t+1]]*beta[j,t+1]\n",
    "                digamma[:,:,t] /= np.sum(digamma[:,:,t])\n",
    "    \n",
    "\n",
    "            for i in xrange(N):\n",
    "                for j in xrange(N):\n",
    "                    digamma[i,j,T-1] = alpha[i,T-1]*a[i,j]\n",
    "            digamma[:,:,T-1] /= np.sum(digamma[:,:,T-1])\n",
    "    \n",
    "            # Maximize parameter expectation\n",
    "            for i in xrange(N):\n",
    "                pi[i] = np.sum(digamma[i,:,0])\n",
    "                for j in xrange(N):\n",
    "                    a[i,j] = np.sum(digamma[i,j,:T-1])/np.sum(digamma[i,:,:T-1])\n",
    "    \t\n",
    "\n",
    "                for k in xrange(M):\n",
    "                    filter_vals = (o==k).nonzero()\n",
    "                    b[i,k] = np.sum(digamma[i,:,filter_vals])/np.sum(digamma[i,:,:])\n",
    "    \n",
    "            error = (np.abs(a-prev_a)).max() + (np.abs(b-prev_b)).max() \n",
    "            itter += 1            \n",
    "            \n",
    "            if verbose:            \n",
    "                print (\"Iteration: \", itter, \" error: \", error, \"P(O|lambda): \", np.sum(alpha[:,T-1]))\n",
    "    \n",
    "        return a, b, pi, alpha\n",
    "        \n",
    "def parseStockPrices(from_date, to_date, symbol):\n",
    "    # Download yahoo_finance package from https://pypi.python.org/pypi/yahoo-finance    \n",
    "    \n",
    "    yahoo = Share(symbol)\n",
    "    hist_prices = yahoo.get_historical(from_date, to_date)\n",
    "    np_hist_prices = np.empty(shape=[len(hist_prices),len(hist_prices[0])-1])   \n",
    "    i=0\n",
    "    for record in hist_prices:\n",
    "        np_hist_prices[i,0]=float(record['Adj_Close'])\n",
    "        np_hist_prices[i,1]=float(record['Close'])\n",
    "        np_hist_prices[i,2]=(dt.datetime.strptime(record['Date'] , '%Y-%m-%d')).toordinal()\n",
    "        np_hist_prices[i,3]=float(record['High'])\n",
    "        np_hist_prices[i,4]=float(record['Low'])\n",
    "        np_hist_prices[i,5]=float(record['Open'])\n",
    "        #np_hist_prices[i,6]=record['Symbol']\n",
    "        np_hist_prices[i,6]=int(record['Volume'])\n",
    "        i+=1\n",
    "    \n",
    "    return np_hist_prices       \n",
    "        \n",
    "def calculateDailyMoves(hist_prices, holding_period):\n",
    "    # calculate daily moves as absolute difference between close_(t+1) - close_(t)    \n",
    "\n",
    "    assert holding_period > 0, \"Holding period should be above zero\"\n",
    "    return (hist_prices[:-holding_period,1]-hist_prices[holding_period:,1])\n",
    "\n"
   ]
  },
  {
   "cell_type": "code",
   "execution_count": 15,
   "metadata": {
    "collapsed": false
   },
   "outputs": [
    {
     "ename": "IndexError",
     "evalue": "too many indices for array",
     "output_type": "error",
     "traceback": [
      "\u001b[0;31m---------------------------------------------------------------------------\u001b[0m",
      "\u001b[0;31mIndexError\u001b[0m                                Traceback (most recent call last)",
      "\u001b[0;32m<ipython-input-15-663d66b73312>\u001b[0m in \u001b[0;36m<module>\u001b[0;34m()\u001b[0m\n\u001b[1;32m      9\u001b[0m     \u001b[0mhist_moves\u001b[0m \u001b[0;34m=\u001b[0m \u001b[0mcalculateDailyMoves\u001b[0m\u001b[0;34m(\u001b[0m\u001b[0mhist_prices\u001b[0m\u001b[0;34m,\u001b[0m\u001b[0;36m1\u001b[0m\u001b[0;34m)\u001b[0m\u001b[0;34m\u001b[0m\u001b[0m\n\u001b[1;32m     10\u001b[0m     \u001b[0mhist_O\u001b[0m\u001b[0;34m=\u001b[0m\u001b[0mnp\u001b[0m\u001b[0;34m.\u001b[0m\u001b[0marray\u001b[0m\u001b[0;34m(\u001b[0m\u001b[0mmap\u001b[0m\u001b[0;34m(\u001b[0m\u001b[0;32mlambda\u001b[0m \u001b[0mx\u001b[0m\u001b[0;34m:\u001b[0m \u001b[0;36m1\u001b[0m \u001b[0;32mif\u001b[0m \u001b[0mx\u001b[0m\u001b[0;34m>\u001b[0m\u001b[0;36m0\u001b[0m \u001b[0;32melse\u001b[0m \u001b[0;34m(\u001b[0m\u001b[0;36m0\u001b[0m \u001b[0;32mif\u001b[0m \u001b[0mx\u001b[0m\u001b[0;34m<\u001b[0m\u001b[0;36m0\u001b[0m \u001b[0;32melse\u001b[0m \u001b[0;36m2\u001b[0m\u001b[0;34m)\u001b[0m\u001b[0;34m,\u001b[0m \u001b[0mhist_moves\u001b[0m\u001b[0;34m)\u001b[0m\u001b[0;34m)\u001b[0m\u001b[0;34m\u001b[0m\u001b[0m\n\u001b[0;32m---> 11\u001b[0;31m     \u001b[0mhist_O\u001b[0m \u001b[0;34m=\u001b[0m \u001b[0mhist_O\u001b[0m\u001b[0;34m[\u001b[0m\u001b[0;34m:\u001b[0m\u001b[0;34m:\u001b[0m\u001b[0;34m-\u001b[0m\u001b[0;36m1\u001b[0m\u001b[0;34m]\u001b[0m \u001b[0;31m# need to flip to be least receint to most recent ordering\u001b[0m\u001b[0;34m\u001b[0m\u001b[0m\n\u001b[0m\u001b[1;32m     12\u001b[0m     \u001b[0;32massert\u001b[0m \u001b[0mlen\u001b[0m\u001b[0;34m(\u001b[0m\u001b[0mhist_prices\u001b[0m\u001b[0;34m)\u001b[0m\u001b[0;34m>\u001b[0m\u001b[0;36m0\u001b[0m\u001b[0;34m,\u001b[0m \u001b[0;34m\"Houston, we've definitely got a problem\"\u001b[0m\u001b[0;34m\u001b[0m\u001b[0m\n\u001b[1;32m     13\u001b[0m \u001b[0;34m\u001b[0m\u001b[0m\n",
      "\u001b[0;31mIndexError\u001b[0m: too many indices for array"
     ]
    }
   ],
   "source": [
    "if __name__ == '__main__':\n",
    "\n",
    "    hmm = HMM()\n",
    "    \n",
    "    # parse Yahoo stock price and create time-series in {0,1,2} for down, up, unchanged on daily absolute move\n",
    "    \n",
    "    hist_prices = parseStockPrices('2016-08-17', '2016-08-30', 'YHOO')  # yyyy-mm-dd\n",
    "    assert len(hist_prices)>0, \"Houston, we've got a problem\"\n",
    "    hist_moves = calculateDailyMoves(hist_prices,1)\n",
    "    hist_O=np.array(map(lambda x: 1 if x>0 else (0 if x<0 else 2), hist_moves))\n",
    "    hist_O = hist_O[::-1] # need to flip to be least receint to most recent ordering\n",
    "    assert len(hist_prices)>0, \"Houston, we've definitely got a problem\"\n",
    "    \n",
    "    (a, b, pi_est, alpha_est) = hmm.HMMBaumWelch(hist_O, 2, False, True)\n",
    "    (path, delta, phi)=hmm.HMMViterbi(a, b, hist_O, pi_est)"
   ]
  },
  {
   "cell_type": "code",
   "execution_count": 15,
   "metadata": {
    "collapsed": false,
    "deletable": true,
    "editable": true
   },
   "outputs": [
    {
     "ename": "IndexError",
     "evalue": "too many indices for array",
     "output_type": "error",
     "traceback": [
      "\u001b[0;31m---------------------------------------------------------------------------\u001b[0m",
      "\u001b[0;31mIndexError\u001b[0m                                Traceback (most recent call last)",
      "\u001b[0;32m<ipython-input-15-663d66b73312>\u001b[0m in \u001b[0;36m<module>\u001b[0;34m()\u001b[0m\n\u001b[1;32m      9\u001b[0m     \u001b[0mhist_moves\u001b[0m \u001b[0;34m=\u001b[0m \u001b[0mcalculateDailyMoves\u001b[0m\u001b[0;34m(\u001b[0m\u001b[0mhist_prices\u001b[0m\u001b[0;34m,\u001b[0m\u001b[0;36m1\u001b[0m\u001b[0;34m)\u001b[0m\u001b[0;34m\u001b[0m\u001b[0m\n\u001b[1;32m     10\u001b[0m     \u001b[0mhist_O\u001b[0m\u001b[0;34m=\u001b[0m\u001b[0mnp\u001b[0m\u001b[0;34m.\u001b[0m\u001b[0marray\u001b[0m\u001b[0;34m(\u001b[0m\u001b[0mmap\u001b[0m\u001b[0;34m(\u001b[0m\u001b[0;32mlambda\u001b[0m \u001b[0mx\u001b[0m\u001b[0;34m:\u001b[0m \u001b[0;36m1\u001b[0m \u001b[0;32mif\u001b[0m \u001b[0mx\u001b[0m\u001b[0;34m>\u001b[0m\u001b[0;36m0\u001b[0m \u001b[0;32melse\u001b[0m \u001b[0;34m(\u001b[0m\u001b[0;36m0\u001b[0m \u001b[0;32mif\u001b[0m \u001b[0mx\u001b[0m\u001b[0;34m<\u001b[0m\u001b[0;36m0\u001b[0m \u001b[0;32melse\u001b[0m \u001b[0;36m2\u001b[0m\u001b[0;34m)\u001b[0m\u001b[0;34m,\u001b[0m \u001b[0mhist_moves\u001b[0m\u001b[0;34m)\u001b[0m\u001b[0;34m)\u001b[0m\u001b[0;34m\u001b[0m\u001b[0m\n\u001b[0;32m---> 11\u001b[0;31m     \u001b[0mhist_O\u001b[0m \u001b[0;34m=\u001b[0m \u001b[0mhist_O\u001b[0m\u001b[0;34m[\u001b[0m\u001b[0;34m:\u001b[0m\u001b[0;34m:\u001b[0m\u001b[0;34m-\u001b[0m\u001b[0;36m1\u001b[0m\u001b[0;34m]\u001b[0m \u001b[0;31m# need to flip to be least receint to most recent ordering\u001b[0m\u001b[0;34m\u001b[0m\u001b[0m\n\u001b[0m\u001b[1;32m     12\u001b[0m     \u001b[0;32massert\u001b[0m \u001b[0mlen\u001b[0m\u001b[0;34m(\u001b[0m\u001b[0mhist_prices\u001b[0m\u001b[0;34m)\u001b[0m\u001b[0;34m>\u001b[0m\u001b[0;36m0\u001b[0m\u001b[0;34m,\u001b[0m \u001b[0;34m\"Houston, we've definitely got a problem\"\u001b[0m\u001b[0;34m\u001b[0m\u001b[0m\n\u001b[1;32m     13\u001b[0m \u001b[0;34m\u001b[0m\u001b[0m\n",
      "\u001b[0;31mIndexError\u001b[0m: too many indices for array"
     ]
    }
   ],
   "source": [
    "if __name__ == '__main__':\n",
    "\n",
    "    hmm = HMM()\n",
    "    \n",
    "    # parse Yahoo stock price and create time-series in {0,1,2} for down, up, unchanged on daily absolute move\n",
    "    \n",
    "    hist_prices = parseStockPrices('2016-08-17', '2016-08-30', 'YHOO')  # yyyy-mm-dd\n",
    "    assert len(hist_prices)>0, \"Houston, we've got a problem\"\n",
    "    hist_moves = calculateDailyMoves(hist_prices,1)\n",
    "    hist_O=np.array(map(lambda x: 1 if x>0 else (0 if x<0 else 2), hist_moves))\n",
    "    hist_O = hist_O[::-1] # need to flip to be least receint to most recent ordering\n",
    "    assert len(hist_prices)>0, \"Houston, we've definitely got a problem\"\n",
    "    \n",
    "    (a, b, pi_est, alpha_est) = hmm.HMMBaumWelch(hist_O, 2, False, True)\n",
    "    (path, delta, phi)=hmm.HMMViterbi(a, b, hist_O, pi_est)"
   ]
  },
  {
   "cell_type": "code",
   "execution_count": 15,
   "metadata": {
    "collapsed": false,
    "deletable": true,
    "editable": true
   },
   "outputs": [
    {
     "ename": "IndexError",
     "evalue": "too many indices for array",
     "output_type": "error",
     "traceback": [
      "\u001b[0;31m---------------------------------------------------------------------------\u001b[0m",
      "\u001b[0;31mIndexError\u001b[0m                                Traceback (most recent call last)",
      "\u001b[0;32m<ipython-input-15-663d66b73312>\u001b[0m in \u001b[0;36m<module>\u001b[0;34m()\u001b[0m\n\u001b[1;32m      9\u001b[0m     \u001b[0mhist_moves\u001b[0m \u001b[0;34m=\u001b[0m \u001b[0mcalculateDailyMoves\u001b[0m\u001b[0;34m(\u001b[0m\u001b[0mhist_prices\u001b[0m\u001b[0;34m,\u001b[0m\u001b[0;36m1\u001b[0m\u001b[0;34m)\u001b[0m\u001b[0;34m\u001b[0m\u001b[0m\n\u001b[1;32m     10\u001b[0m     \u001b[0mhist_O\u001b[0m\u001b[0;34m=\u001b[0m\u001b[0mnp\u001b[0m\u001b[0;34m.\u001b[0m\u001b[0marray\u001b[0m\u001b[0;34m(\u001b[0m\u001b[0mmap\u001b[0m\u001b[0;34m(\u001b[0m\u001b[0;32mlambda\u001b[0m \u001b[0mx\u001b[0m\u001b[0;34m:\u001b[0m \u001b[0;36m1\u001b[0m \u001b[0;32mif\u001b[0m \u001b[0mx\u001b[0m\u001b[0;34m>\u001b[0m\u001b[0;36m0\u001b[0m \u001b[0;32melse\u001b[0m \u001b[0;34m(\u001b[0m\u001b[0;36m0\u001b[0m \u001b[0;32mif\u001b[0m \u001b[0mx\u001b[0m\u001b[0;34m<\u001b[0m\u001b[0;36m0\u001b[0m \u001b[0;32melse\u001b[0m \u001b[0;36m2\u001b[0m\u001b[0;34m)\u001b[0m\u001b[0;34m,\u001b[0m \u001b[0mhist_moves\u001b[0m\u001b[0;34m)\u001b[0m\u001b[0;34m)\u001b[0m\u001b[0;34m\u001b[0m\u001b[0m\n\u001b[0;32m---> 11\u001b[0;31m     \u001b[0mhist_O\u001b[0m \u001b[0;34m=\u001b[0m \u001b[0mhist_O\u001b[0m\u001b[0;34m[\u001b[0m\u001b[0;34m:\u001b[0m\u001b[0;34m:\u001b[0m\u001b[0;34m-\u001b[0m\u001b[0;36m1\u001b[0m\u001b[0;34m]\u001b[0m \u001b[0;31m# need to flip to be least receint to most recent ordering\u001b[0m\u001b[0;34m\u001b[0m\u001b[0m\n\u001b[0m\u001b[1;32m     12\u001b[0m     \u001b[0;32massert\u001b[0m \u001b[0mlen\u001b[0m\u001b[0;34m(\u001b[0m\u001b[0mhist_prices\u001b[0m\u001b[0;34m)\u001b[0m\u001b[0;34m>\u001b[0m\u001b[0;36m0\u001b[0m\u001b[0;34m,\u001b[0m \u001b[0;34m\"Houston, we've definitely got a problem\"\u001b[0m\u001b[0;34m\u001b[0m\u001b[0m\n\u001b[1;32m     13\u001b[0m \u001b[0;34m\u001b[0m\u001b[0m\n",
      "\u001b[0;31mIndexError\u001b[0m: too many indices for array"
     ]
    }
   ],
   "source": [
    "if __name__ == '__main__':\n",
    "\n",
    "    hmm = HMM()\n",
    "    \n",
    "    # parse Yahoo stock price and create time-series in {0,1,2} for down, up, unchanged on daily absolute move\n",
    "    \n",
    "    hist_prices = parseStockPrices('2016-08-17', '2016-08-30', 'YHOO')  # yyyy-mm-dd\n",
    "    assert len(hist_prices)>0, \"Houston, we've got a problem\"\n",
    "    hist_moves = calculateDailyMoves(hist_prices,1)\n",
    "    hist_O=np.array(map(lambda x: 1 if x>0 else (0 if x<0 else 2), hist_moves))\n",
    "    hist_O = hist_O[::-1] # need to flip to be least receint to most recent ordering\n",
    "    assert len(hist_prices)>0, \"Houston, we've definitely got a problem\"\n",
    "    \n",
    "    (a, b, pi_est, alpha_est) = hmm.HMMBaumWelch(hist_O, 2, False, True)\n",
    "    (path, delta, phi)=hmm.HMMViterbi(a, b, hist_O, pi_est)"
   ]
  },
  {
   "cell_type": "code",
   "execution_count": 15,
   "metadata": {
    "collapsed": false,
    "deletable": true,
    "editable": true
   },
   "outputs": [
    {
     "ename": "IndexError",
     "evalue": "too many indices for array",
     "output_type": "error",
     "traceback": [
      "\u001b[0;31m---------------------------------------------------------------------------\u001b[0m",
      "\u001b[0;31mIndexError\u001b[0m                                Traceback (most recent call last)",
      "\u001b[0;32m<ipython-input-15-663d66b73312>\u001b[0m in \u001b[0;36m<module>\u001b[0;34m()\u001b[0m\n\u001b[1;32m      9\u001b[0m     \u001b[0mhist_moves\u001b[0m \u001b[0;34m=\u001b[0m \u001b[0mcalculateDailyMoves\u001b[0m\u001b[0;34m(\u001b[0m\u001b[0mhist_prices\u001b[0m\u001b[0;34m,\u001b[0m\u001b[0;36m1\u001b[0m\u001b[0;34m)\u001b[0m\u001b[0;34m\u001b[0m\u001b[0m\n\u001b[1;32m     10\u001b[0m     \u001b[0mhist_O\u001b[0m\u001b[0;34m=\u001b[0m\u001b[0mnp\u001b[0m\u001b[0;34m.\u001b[0m\u001b[0marray\u001b[0m\u001b[0;34m(\u001b[0m\u001b[0mmap\u001b[0m\u001b[0;34m(\u001b[0m\u001b[0;32mlambda\u001b[0m \u001b[0mx\u001b[0m\u001b[0;34m:\u001b[0m \u001b[0;36m1\u001b[0m \u001b[0;32mif\u001b[0m \u001b[0mx\u001b[0m\u001b[0;34m>\u001b[0m\u001b[0;36m0\u001b[0m \u001b[0;32melse\u001b[0m \u001b[0;34m(\u001b[0m\u001b[0;36m0\u001b[0m \u001b[0;32mif\u001b[0m \u001b[0mx\u001b[0m\u001b[0;34m<\u001b[0m\u001b[0;36m0\u001b[0m \u001b[0;32melse\u001b[0m \u001b[0;36m2\u001b[0m\u001b[0;34m)\u001b[0m\u001b[0;34m,\u001b[0m \u001b[0mhist_moves\u001b[0m\u001b[0;34m)\u001b[0m\u001b[0;34m)\u001b[0m\u001b[0;34m\u001b[0m\u001b[0m\n\u001b[0;32m---> 11\u001b[0;31m     \u001b[0mhist_O\u001b[0m \u001b[0;34m=\u001b[0m \u001b[0mhist_O\u001b[0m\u001b[0;34m[\u001b[0m\u001b[0;34m:\u001b[0m\u001b[0;34m:\u001b[0m\u001b[0;34m-\u001b[0m\u001b[0;36m1\u001b[0m\u001b[0;34m]\u001b[0m \u001b[0;31m# need to flip to be least receint to most recent ordering\u001b[0m\u001b[0;34m\u001b[0m\u001b[0m\n\u001b[0m\u001b[1;32m     12\u001b[0m     \u001b[0;32massert\u001b[0m \u001b[0mlen\u001b[0m\u001b[0;34m(\u001b[0m\u001b[0mhist_prices\u001b[0m\u001b[0;34m)\u001b[0m\u001b[0;34m>\u001b[0m\u001b[0;36m0\u001b[0m\u001b[0;34m,\u001b[0m \u001b[0;34m\"Houston, we've definitely got a problem\"\u001b[0m\u001b[0;34m\u001b[0m\u001b[0m\n\u001b[1;32m     13\u001b[0m \u001b[0;34m\u001b[0m\u001b[0m\n",
      "\u001b[0;31mIndexError\u001b[0m: too many indices for array"
     ]
    }
   ],
   "source": [
    "if __name__ == '__main__':\n",
    "\n",
    "    hmm = HMM()\n",
    "    \n",
    "    # parse Yahoo stock price and create time-series in {0,1,2} for down, up, unchanged on daily absolute move\n",
    "    \n",
    "    hist_prices = parseStockPrices('2016-08-17', '2016-08-30', 'YHOO')  # yyyy-mm-dd\n",
    "    assert len(hist_prices)>0, \"Houston, we've got a problem\"\n",
    "    hist_moves = calculateDailyMoves(hist_prices,1)\n",
    "    hist_O=np.array(map(lambda x: 1 if x>0 else (0 if x<0 else 2), hist_moves))\n",
    "    hist_O = hist_O[::-1] # need to flip to be least receint to most recent ordering\n",
    "    assert len(hist_prices)>0, \"Houston, we've definitely got a problem\"\n",
    "    \n",
    "    (a, b, pi_est, alpha_est) = hmm.HMMBaumWelch(hist_O, 2, False, True)\n",
    "    (path, delta, phi)=hmm.HMMViterbi(a, b, hist_O, pi_est)"
   ]
  },
  {
   "cell_type": "code",
   "execution_count": 16,
   "metadata": {
    "collapsed": true
   },
   "outputs": [],
   "source": [
    "hmm = HMM()"
   ]
  },
  {
   "cell_type": "code",
   "execution_count": 17,
   "metadata": {
    "collapsed": false
   },
   "outputs": [
    {
     "data": {
      "text/plain": [
       "<__main__.HMM at 0x10873bef0>"
      ]
     },
     "execution_count": 17,
     "metadata": {},
     "output_type": "execute_result"
    }
   ],
   "source": [
    "hmm"
   ]
  },
  {
   "cell_type": "code",
   "execution_count": null,
   "metadata": {
    "collapsed": true
   },
   "outputs": [],
   "source": []
  }
 ],
 "metadata": {
  "kernelspec": {
   "display_name": "Python 3",
   "language": "python",
   "name": "python3"
  },
  "language_info": {
   "codemirror_mode": {
    "name": "ipython",
    "version": 3
   },
   "file_extension": ".py",
   "mimetype": "text/x-python",
   "name": "python",
   "nbconvert_exporter": "python",
   "pygments_lexer": "ipython3",
   "version": "3.5.3"
  }
 },
 "nbformat": 4,
 "nbformat_minor": 2
}
